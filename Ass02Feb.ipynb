{
 "cells": [
  {
   "cell_type": "markdown",
   "id": "c900ec36-4d99-4a19-8026-696f02fb3d9c",
   "metadata": {},
   "source": [
    "T1 = (1,2,3,4,5,2,5,1)\n",
    "print(T1)"
   ]
  },
  {
   "cell_type": "code",
   "execution_count": 2,
   "id": "545786c3-c9ff-4e05-ab91-bad9cee67437",
   "metadata": {},
   "outputs": [
    {
     "data": {
      "text/plain": [
       "tuple"
      ]
     },
     "execution_count": 2,
     "metadata": {},
     "output_type": "execute_result"
    }
   ],
   "source": [
    "type(T1)"
   ]
  },
  {
   "cell_type": "code",
   "execution_count": 3,
   "id": "45d2d0e6-ef9c-4b03-8dae-f90eefc6291c",
   "metadata": {},
   "outputs": [
    {
     "data": {
      "text/plain": [
       "2"
      ]
     },
     "execution_count": 3,
     "metadata": {},
     "output_type": "execute_result"
    }
   ],
   "source": [
    "T1.count(1)"
   ]
  },
  {
   "cell_type": "code",
   "execution_count": 4,
   "id": "d14b3a95-1f48-4998-be71-b84b31f497b3",
   "metadata": {},
   "outputs": [
    {
     "data": {
      "text/plain": [
       "3"
      ]
     },
     "execution_count": 4,
     "metadata": {},
     "output_type": "execute_result"
    }
   ],
   "source": [
    "T1.index(4)"
   ]
  },
  {
   "cell_type": "code",
   "execution_count": 5,
   "id": "55a8d693-9de0-4405-8cd3-1a995d826323",
   "metadata": {},
   "outputs": [],
   "source": [
    "lst = [1,2,3,4,5,4,3,2,1]"
   ]
  },
  {
   "cell_type": "code",
   "execution_count": 6,
   "id": "e6ea7b88-1f92-480f-a608-0c0239e5372e",
   "metadata": {},
   "outputs": [
    {
     "name": "stdout",
     "output_type": "stream",
     "text": [
      "[1, 2, 3, 4, 5, 4, 3, 2, 1]\n"
     ]
    }
   ],
   "source": [
    "print(lst)"
   ]
  },
  {
   "cell_type": "code",
   "execution_count": 7,
   "id": "d5ab1a16-8a0d-4c53-846f-d45068ec0516",
   "metadata": {},
   "outputs": [
    {
     "data": {
      "text/plain": [
       "{1, 2, 3, 4, 5}"
      ]
     },
     "execution_count": 7,
     "metadata": {},
     "output_type": "execute_result"
    }
   ],
   "source": [
    "set(lst)"
   ]
  },
  {
   "cell_type": "code",
   "execution_count": 8,
   "id": "b3f04c68-d8fe-4b21-b19d-c8c21e19ae9c",
   "metadata": {},
   "outputs": [],
   "source": [
    "s = set()"
   ]
  },
  {
   "cell_type": "code",
   "execution_count": 9,
   "id": "cd743b0f-5bb8-4b9d-b827-b1793dc6e4ff",
   "metadata": {},
   "outputs": [],
   "source": [
    "s= {1,2,3,4,4,3,2,1}"
   ]
  },
  {
   "cell_type": "code",
   "execution_count": 10,
   "id": "070b459a-9a42-408b-a68b-b1ddcaed8b1f",
   "metadata": {},
   "outputs": [
    {
     "data": {
      "text/plain": [
       "set"
      ]
     },
     "execution_count": 10,
     "metadata": {},
     "output_type": "execute_result"
    }
   ],
   "source": [
    "type(s)"
   ]
  },
  {
   "cell_type": "code",
   "execution_count": 11,
   "id": "5adb8d6d-c5eb-4a39-8018-7ee4ebd0f0e6",
   "metadata": {},
   "outputs": [],
   "source": [
    "List = [1, 1, 1, 2, 1, 3, 1, 4, 2, 1, 2, 2, 2, 3, 2, 4, 3, 1, 3, 2, 3, 3, 3, 4, 4, 1, 4, 2, 4, 3, 4, 4] "
   ]
  },
  {
   "cell_type": "code",
   "execution_count": 12,
   "id": "2a94c4fe-70dc-4603-906e-3d4f1dd46a23",
   "metadata": {},
   "outputs": [],
   "source": [
    "List = set(List)"
   ]
  },
  {
   "cell_type": "code",
   "execution_count": 13,
   "id": "3a73d386-30ef-433b-b202-300e57e5376d",
   "metadata": {},
   "outputs": [
    {
     "name": "stdout",
     "output_type": "stream",
     "text": [
      "{1, 2, 3, 4}\n"
     ]
    }
   ],
   "source": [
    "print(List)"
   ]
  },
  {
   "cell_type": "code",
   "execution_count": 14,
   "id": "5dff5b76-453a-41af-a50d-c2e40a334637",
   "metadata": {},
   "outputs": [],
   "source": [
    "s1 = {4,3,2,1}\n",
    "s2 = {8,7,6,5}"
   ]
  },
  {
   "cell_type": "code",
   "execution_count": 15,
   "id": "c4f6e30f-5f65-4167-b156-fc80b5c41687",
   "metadata": {},
   "outputs": [],
   "source": [
    "s1.update(s2)"
   ]
  },
  {
   "cell_type": "code",
   "execution_count": 16,
   "id": "d8570358-2ca7-47e3-91e0-8f631d4b16cf",
   "metadata": {},
   "outputs": [
    {
     "data": {
      "text/plain": [
       "{1, 2, 3, 4, 5, 6, 7, 8}"
      ]
     },
     "execution_count": 16,
     "metadata": {},
     "output_type": "execute_result"
    }
   ],
   "source": [
    "s1"
   ]
  },
  {
   "cell_type": "code",
   "execution_count": 17,
   "id": "98cd2d8a-2c94-44f1-9bd2-0986c2bea1b3",
   "metadata": {},
   "outputs": [],
   "source": [
    "s3 = s1.union(s2)"
   ]
  },
  {
   "cell_type": "code",
   "execution_count": 18,
   "id": "31107e71-06e9-4afd-aa8b-7fa1bde6e489",
   "metadata": {},
   "outputs": [
    {
     "data": {
      "text/plain": [
       "{1, 2, 3, 4, 5, 6, 7, 8}"
      ]
     },
     "execution_count": 18,
     "metadata": {},
     "output_type": "execute_result"
    }
   ],
   "source": [
    "s3"
   ]
  },
  {
   "cell_type": "code",
   "execution_count": 19,
   "id": "6e112072-2e3b-4ebc-9cf9-412108d67e9a",
   "metadata": {},
   "outputs": [],
   "source": [
    "d = { 'std1': {'Name':'Reem', 'Score': 'A+'} , 'std2': {'Name':'Ram', 'Score':'B'}}"
   ]
  },
  {
   "cell_type": "code",
   "execution_count": 20,
   "id": "92c134c4-995d-4273-8ec6-7cfeddbd791b",
   "metadata": {},
   "outputs": [
    {
     "data": {
      "text/plain": [
       "{'std1': {'Name': 'Reem', 'Score': 'A+'},\n",
       " 'std2': {'Name': 'Ram', 'Score': 'B'}}"
      ]
     },
     "execution_count": 20,
     "metadata": {},
     "output_type": "execute_result"
    }
   ],
   "source": [
    "d"
   ]
  },
  {
   "cell_type": "code",
   "execution_count": 21,
   "id": "6ac43506-c842-4614-90fc-f66eefc689c4",
   "metadata": {},
   "outputs": [
    {
     "data": {
      "text/plain": [
       "{'Name': 'Reem', 'Score': 'A+'}"
      ]
     },
     "execution_count": 21,
     "metadata": {},
     "output_type": "execute_result"
    }
   ],
   "source": [
    "d['std1']"
   ]
  },
  {
   "cell_type": "code",
   "execution_count": 22,
   "id": "ed9778cc-c42b-4ee1-b724-f1aaa4bf8a5f",
   "metadata": {},
   "outputs": [],
   "source": [
    "dict1 = {'language' : 'Python', 'course': 'Data Science Masters'}"
   ]
  },
  {
   "cell_type": "code",
   "execution_count": 23,
   "id": "ed286b52-f283-4c46-9dd7-cbd3f1521969",
   "metadata": {},
   "outputs": [],
   "source": [
    "values = [\"Python\",\"Machine Learning\",\"Deep Learning\"]"
   ]
  },
  {
   "cell_type": "code",
   "execution_count": 24,
   "id": "f8d6c341-dc06-482d-8990-4a9c73f2c2ba",
   "metadata": {},
   "outputs": [
    {
     "data": {
      "text/plain": [
       "[['Python', 'Machine Learning', 'Deep Learning']]"
      ]
     },
     "execution_count": 24,
     "metadata": {},
     "output_type": "execute_result"
    }
   ],
   "source": [
    "dict1.setdefault('topics',[values])"
   ]
  },
  {
   "cell_type": "code",
   "execution_count": 25,
   "id": "6ae0856f-8573-4673-a528-52f1f6d5dd22",
   "metadata": {},
   "outputs": [],
   "source": [
    "dict1 = {'Sport': 'Cricket' , 'Teams': ['India', 'Australia', 'England', 'South Africa', 'Sri Lanka', 'New Zealand']} "
   ]
  },
  {
   "cell_type": "code",
   "execution_count": 26,
   "id": "8f0f6cfc-3252-4d5c-8c5d-b2c8b6f630b4",
   "metadata": {},
   "outputs": [
    {
     "data": {
      "text/plain": [
       "dict_keys(['Sport', 'Teams'])"
      ]
     },
     "execution_count": 26,
     "metadata": {},
     "output_type": "execute_result"
    }
   ],
   "source": [
    "dict1.keys()"
   ]
  },
  {
   "cell_type": "code",
   "execution_count": 27,
   "id": "e604df55-e8da-4a12-876f-a96404e10736",
   "metadata": {},
   "outputs": [
    {
     "data": {
      "text/plain": [
       "dict_values(['Cricket', ['India', 'Australia', 'England', 'South Africa', 'Sri Lanka', 'New Zealand']])"
      ]
     },
     "execution_count": 27,
     "metadata": {},
     "output_type": "execute_result"
    }
   ],
   "source": [
    "dict1.values()"
   ]
  },
  {
   "cell_type": "code",
   "execution_count": 28,
   "id": "3773abce-78fa-454f-b959-38a445a52a46",
   "metadata": {},
   "outputs": [
    {
     "data": {
      "text/plain": [
       "dict_items([('Sport', 'Cricket'), ('Teams', ['India', 'Australia', 'England', 'South Africa', 'Sri Lanka', 'New Zealand'])])"
      ]
     },
     "execution_count": 28,
     "metadata": {},
     "output_type": "execute_result"
    }
   ],
   "source": [
    "dict1.items()"
   ]
  },
  {
   "cell_type": "code",
   "execution_count": null,
   "id": "c08fc739-c51c-4225-81fe-e6216c2cd6fc",
   "metadata": {},
   "outputs": [],
   "source": []
  },
  {
   "cell_type": "code",
   "execution_count": null,
   "id": "12d71dcf-4729-4baa-b080-f16e37e021ae",
   "metadata": {},
   "outputs": [],
   "source": []
  }
 ],
 "metadata": {
  "kernelspec": {
   "display_name": "Python 3 (ipykernel)",
   "language": "python",
   "name": "python3"
  },
  "language_info": {
   "codemirror_mode": {
    "name": "ipython",
    "version": 3
   },
   "file_extension": ".py",
   "mimetype": "text/x-python",
   "name": "python",
   "nbconvert_exporter": "python",
   "pygments_lexer": "ipython3",
   "version": "3.10.8"
  }
 },
 "nbformat": 4,
 "nbformat_minor": 5
}
