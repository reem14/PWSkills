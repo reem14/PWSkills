{
  "nbformat": 4,
  "nbformat_minor": 0,
  "metadata": {
    "colab": {
      "provenance": []
    },
    "kernelspec": {
      "name": "python3",
      "display_name": "Python 3"
    },
    "language_info": {
      "name": "python"
    }
  },
  "cells": [
    {
      "cell_type": "code",
      "execution_count": 1,
      "metadata": {
        "id": "5jJyHfk8AKRZ"
      },
      "outputs": [],
      "source": [
        "# Q1. What is the Probability density function? representing the density of a continuous random variable\n"
      ]
    },
    {
      "cell_type": "code",
      "source": [
        "# Q2. What are the types of Probability distribution?\n",
        "'''\n",
        "1. Normal Distribution\n",
        "2. Bernouli Distribution\n",
        "3. Uniform Distribution\n",
        "4. Log Normal Distribution\n",
        "5. Poisson Distribution\n",
        "6. Power law Distribution\n",
        "7. Binomail Distribution\n",
        "'''\n"
      ],
      "metadata": {
        "id": "4oPokQa8qoz-",
        "colab": {
          "base_uri": "https://localhost:8080/",
          "height": 53
        },
        "outputId": "61eee355-89c6-4bcd-c2f1-7a146a0df8f7"
      },
      "execution_count": 2,
      "outputs": [
        {
          "output_type": "execute_result",
          "data": {
            "text/plain": [
              "' \\n1. Normal Distribution\\n2. Bernouli Distribution\\n3. Uniform Distribution\\n4. Log Normal Distribution\\n5. Poisson Distribution\\n6. Power law Distribution\\n7. Binomail Distribution \\n'"
            ],
            "application/vnd.google.colaboratory.intrinsic+json": {
              "type": "string"
            }
          },
          "metadata": {},
          "execution_count": 2
        }
      ]
    },
    {
      "cell_type": "code",
      "source": [
        "# Q3. Write a Python function to calculate the probability density function of a normal distribution with\n",
        "#given mean and standard deviation at a given point.\n",
        "# scipy.stats.norm.PDF()"
      ],
      "metadata": {
        "id": "DgsKeZjyqqFX"
      },
      "execution_count": null,
      "outputs": []
    },
    {
      "cell_type": "code",
      "source": [
        "# Q4. What are the properties of Binomial distribution? Give two examples of events where binomial distribution can be applied.\n",
        "'''\n",
        "There are two possible outcomes: true or false, success or failure, yes or no.\n",
        "There is 'n' number of independent trials or a fixed number of n times repeated trials.\n",
        "1. Rolling a die\n",
        "2. Tossing a coin\n",
        "'''"
      ],
      "metadata": {
        "id": "nlCpnx6bquT6",
        "colab": {
          "base_uri": "https://localhost:8080/",
          "height": 53
        },
        "outputId": "29687358-89b7-44f3-cc55-9078698e9ce4"
      },
      "execution_count": 3,
      "outputs": [
        {
          "output_type": "execute_result",
          "data": {
            "text/plain": [
              "\" \\nThere are two possible outcomes: true or false, success or failure, yes or no. \\nThere is 'n' number of independent trials or a fixed number of n times repeated trials.\\n1. Rolling a die\\n2. Tossing a coin \\n\""
            ],
            "application/vnd.google.colaboratory.intrinsic+json": {
              "type": "string"
            }
          },
          "metadata": {},
          "execution_count": 3
        }
      ]
    },
    {
      "cell_type": "code",
      "source": [
        "# Q5. Generate a random sample of size 1000 from a binomial distribution with probability of success 0.4 and plot a histogram of the results using matplotlib.\n",
        "import numpy as np\n",
        "import matplotlib.pyplot as plt\n",
        "n, p = 10, .4\n",
        "s = np.random.binomial(n, p, 1000)\n",
        "plt.hist(s)"
      ],
      "metadata": {
        "id": "pyvOyXwuq7uz",
        "colab": {
          "base_uri": "https://localhost:8080/",
          "height": 482
        },
        "outputId": "61c0dccf-5eb1-41eb-99c2-4c7a3bad926a"
      },
      "execution_count": 5,
      "outputs": [
        {
          "output_type": "execute_result",
          "data": {
            "text/plain": [
              "(array([  2.,  52., 125., 198., 236., 211., 123.,  40.,  12.,   1.]),\n",
              " array([0. , 0.9, 1.8, 2.7, 3.6, 4.5, 5.4, 6.3, 7.2, 8.1, 9. ]),\n",
              " <BarContainer object of 10 artists>)"
            ]
          },
          "metadata": {},
          "execution_count": 5
        },
        {
          "output_type": "display_data",
          "data": {
            "text/plain": [
              "<Figure size 640x480 with 1 Axes>"
            ],
            "image/png": "[encoded data removed]"
          },
          "metadata": {}
        }
      ]
    },
    {
      "cell_type": "code",
      "source": [
        "# Q6. Write a Python function to calculate the cumulative distribution function of a Poisson distribution with given mean at a given point.\n",
        "from scipy.stats import poisson\n",
        "\n",
        "#calculate probability\n",
        "poisson.pmf(k=5, mu=3)\n"
      ],
      "metadata": {
        "id": "ETRwEqJxq-oL",
        "colab": {
          "base_uri": "https://localhost:8080/"
        },
        "outputId": "cbf6c0c3-fe39-4b64-f865-b551212a09ff"
      },
      "execution_count": 6,
      "outputs": [
        {
          "output_type": "execute_result",
          "data": {
            "text/plain": [
              "0.10081881344492458"
            ]
          },
          "metadata": {},
          "execution_count": 6
        }
      ]
    },
    {
      "cell_type": "code",
      "source": [
        "# How Binomial distribution different from Poisson distribution?\n",
        "'''\n",
        "Binomial distribution describes the distribution of binary data from a finite sample.\n",
        "Thus it gives the probability of getting r events out of n trials.\n",
        "Poisson distribution describes the distribution of binary data from an infinite sample.\n",
        "'''"
      ],
      "metadata": {
        "id": "8O_YAWvLrB2e",
        "colab": {
          "base_uri": "https://localhost:8080/",
          "height": 70
        },
        "outputId": "01a84763-08f8-4eb5-c3d0-3ba1cb07a7b0"
      },
      "execution_count": 7,
      "outputs": [
        {
          "output_type": "execute_result",
          "data": {
            "text/plain": [
              "'\\nBinomial distribution describes the distribution of binary data from a finite sample. \\nThus it gives the probability of getting r events out of n trials. \\nPoisson distribution describes the distribution of binary data from an infinite sample. \\n'"
            ],
            "application/vnd.google.colaboratory.intrinsic+json": {
              "type": "string"
            }
          },
          "metadata": {},
          "execution_count": 7
        }
      ]
    },
    {
      "cell_type": "code",
      "source": [
        "# Q8. Generate a random sample of size 1000 from a Poisson distribution with mean 5 and calculate the sample mean and variance.\n",
        "s = np.random.poisson(5, 1000)"
      ],
      "metadata": {
        "id": "gM47SmBorCmk"
      },
      "execution_count": 8,
      "outputs": []
    },
    {
      "cell_type": "code",
      "source": [
        "# Q9. How mean and variance are related in Binomial distribution and Poisson distribution?\n",
        "#In binomial distribution Mean > Variance while in poisson distribution mean = variance"
      ],
      "metadata": {
        "id": "yiXqIw0jrC2g"
      },
      "execution_count": null,
      "outputs": []
    },
    {
      "cell_type": "code",
      "source": [
        "# Q10. In normal distribution with respect to mean position, where does the least frequent data appear? in edge"
      ],
      "metadata": {
        "id": "rq4kQ7S3rDHJ"
      },
      "execution_count": 9,
      "outputs": []
    },
    {
      "cell_type": "code",
      "source": [],
      "metadata": {
        "id": "wmuxU4Dobeq9"
      },
      "execution_count": null,
      "outputs": []
    }
  ]
}