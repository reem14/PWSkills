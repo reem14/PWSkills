{
  "nbformat": 4,
  "nbformat_minor": 0,
  "metadata": {
    "colab": {
      "provenance": []
    },
    "kernelspec": {
      "name": "python3",
      "display_name": "Python 3"
    },
    "language_info": {
      "name": "python"
    }
  },
  "cells": [
    {
      "cell_type": "code",
      "execution_count": null,
      "metadata": {
        "id": "5jJyHfk8AKRZ"
      },
      "outputs": [],
      "source": [
        "# Q1: What are the Probability Mass Function (PMF) and Probability Density Function (PDF)? Explain with an example.\n",
        "'''\n",
        "The probability mass function is usually the primary component of defining a discrete probability distribution,\n",
        "but it differs from the probability density function (PDF) where it produces distinct outcomes.\n",
        "\n",
        "'''"
      ]
    },
    {
      "cell_type": "code",
      "source": [
        "# Q2: What is Cumulative Density Function (CDF)? Explain with an example. Why CDF is used?\n",
        "'''\n",
        "CDF: Cumulative Distribution Function, returns the probability of a value less than or equal to a given outcome.\n",
        "'''"
      ],
      "metadata": {
        "id": "4oPokQa8qoz-"
      },
      "execution_count": null,
      "outputs": []
    },
    {
      "cell_type": "code",
      "source": [
        "# Q3: What are some examples of situations where the normal distribution might be used as a model?\n",
        "# Explain how the parameters of the normal distribution relate to the shape of the distribution."
      ],
      "metadata": {
        "id": "DgsKeZjyqqFX"
      },
      "execution_count": null,
      "outputs": []
    },
    {
      "cell_type": "code",
      "source": [
        "# Q4: Explain the importance of Normal Distribution. Give a few real-life examples of Normal Distribution."
      ],
      "metadata": {
        "id": "nlCpnx6bquT6"
      },
      "execution_count": null,
      "outputs": []
    },
    {
      "cell_type": "code",
      "source": [
        "# Q5: What is Bernaulli Distribution? Give an Example. What is the difference between Bernoulli Distribution and Binomial Distribution?\n"
      ],
      "metadata": {
        "id": "pyvOyXwuq7uz"
      },
      "execution_count": null,
      "outputs": []
    },
    {
      "cell_type": "code",
      "source": [
        "# Q6. Consider a dataset with a mean of 50 and a standard deviation of 10. If we assume that the dataset\n",
        "# is normally distributed, what is the probability that a randomly selected observation will be greater\n",
        "# than 60? Use the appropriate formula and show your calculations."
      ],
      "metadata": {
        "id": "ETRwEqJxq-oL"
      },
      "execution_count": null,
      "outputs": []
    },
    {
      "cell_type": "code",
      "source": [
        "#Q7: Explain uniform Distribution with an example."
      ],
      "metadata": {
        "id": "8O_YAWvLrB2e"
      },
      "execution_count": null,
      "outputs": []
    },
    {
      "cell_type": "code",
      "source": [
        "# Q8: What is the z score? State the importance of the z score."
      ],
      "metadata": {
        "id": "gM47SmBorCmk"
      },
      "execution_count": null,
      "outputs": []
    },
    {
      "cell_type": "code",
      "source": [
        "# Q9: What is Central Limit Theorem? State the significance of the Central Limit Theorem."
      ],
      "metadata": {
        "id": "yiXqIw0jrC2g"
      },
      "execution_count": null,
      "outputs": []
    },
    {
      "cell_type": "code",
      "source": [
        "# Q10: State the assumptions of the Central Limit Theorem."
      ],
      "metadata": {
        "id": "rq4kQ7S3rDHJ"
      },
      "execution_count": null,
      "outputs": []
    },
    {
      "cell_type": "code",
      "source": [],
      "metadata": {
        "id": "wmuxU4Dobeq9"
      },
      "execution_count": null,
      "outputs": []
    }
  ]
}