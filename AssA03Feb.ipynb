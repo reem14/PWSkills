{
 "cells": [
  {
   "cell_type": "markdown",
   "id": "5167cda6-87e5-4025-8ba0-eee8e738bd3d",
   "metadata": {},
   "source": [
    "# Assignment 03 Feb"
   ]
  },
  {
   "cell_type": "markdown",
   "id": "00db8fb3-24c5-498b-871d-1c0b627738a5",
   "metadata": {},
   "source": [
    "#### Q1.  Create a function to return a list of odd numbers in the  range of 1 to 25. \n"
   ]
  },
  {
   "cell_type": "code",
   "execution_count": 4,
   "id": "f8d23b0e-7bf3-4e7c-ac59-f88ee74a8ed2",
   "metadata": {},
   "outputs": [],
   "source": [
    "def odd_num(n):\n",
    "    l = []\n",
    "    for i in range(n):\n",
    "        if i%2 != 0:\n",
    "            l.append(i)\n",
    "    return l "
   ]
  },
  {
   "cell_type": "code",
   "execution_count": 5,
   "id": "91a60649-99d5-408d-8d76-29ce55b4a4bc",
   "metadata": {},
   "outputs": [
    {
     "data": {
      "text/plain": [
       "[1, 3, 5, 7, 9, 11, 13, 15, 17, 19, 21, 23]"
      ]
     },
     "execution_count": 5,
     "metadata": {},
     "output_type": "execute_result"
    }
   ],
   "source": [
    "odd_num(25)"
   ]
  },
  {
   "cell_type": "markdown",
   "id": "eb38624b-3143-4f37-80fa-f7a6ed13e32d",
   "metadata": {},
   "source": [
    "#### Q2. Why *args and **kwargs is used in some functions? Create a function each for *args and **kwargs to  demonstrate their use. "
   ]
  },
  {
   "cell_type": "markdown",
   "id": "a63b106f-9210-4b81-9de9-e593e772bf96",
   "metadata": {},
   "source": [
    "*args: when we not sure about the values we intend to pass to the function. \n",
    "\n",
    "**kwargs: it return dic {} it takes key and its value. "
   ]
  },
  {
   "cell_type": "code",
   "execution_count": 22,
   "id": "081fccb4-6e6e-4006-9a9f-0fe3284ea603",
   "metadata": {},
   "outputs": [],
   "source": [
    "def args_fun(*args):\n",
    "    l = []\n",
    "    for i in args:\n",
    "        if type(i) == list:\n",
    "            l.append(i)\n",
    "    return l "
   ]
  },
  {
   "cell_type": "code",
   "execution_count": 24,
   "id": "48f6e9a7-e8fc-49a7-8684-8dd3664e355d",
   "metadata": {},
   "outputs": [],
   "source": [
    "def kwargs_fun(**kwargs):\n",
    "    return kwargs"
   ]
  },
  {
   "cell_type": "code",
   "execution_count": 23,
   "id": "917ca5bb-7e11-4588-85a6-5391a0f09052",
   "metadata": {},
   "outputs": [
    {
     "data": {
      "text/plain": [
       "[[1, 2, 3, 444, 'r']]"
      ]
     },
     "execution_count": 23,
     "metadata": {},
     "output_type": "execute_result"
    }
   ],
   "source": [
    "args_fun([1,2,3,444,'r'], 'q','r','y')"
   ]
  },
  {
   "cell_type": "code",
   "execution_count": 25,
   "id": "f36e58c9-4624-471e-8fcd-4a3d89882dd5",
   "metadata": {},
   "outputs": [
    {
     "data": {
      "text/plain": [
       "{'a': 'Reem', 'b': '1234', 'c': 'STD'}"
      ]
     },
     "execution_count": 25,
     "metadata": {},
     "output_type": "execute_result"
    }
   ],
   "source": [
    "kwargs_fun(a='Reem', b='1234', c = 'STD')"
   ]
  },
  {
   "cell_type": "markdown",
   "id": "d0526883-53be-46c4-8b28-4306b0e32764",
   "metadata": {},
   "source": [
    "#### Q3.  What is an iterator in python? Name the method used to initialise the iterator object and the method  used for iteration. Use these methods to print the first five elements of the given list [2, 4, 6, 8, 10, 12, 14, 16,  18, 20]. "
   ]
  },
  {
   "cell_type": "markdown",
   "id": "4b6912ad-b29a-4771-8510-cdc1792292a2",
   "metadata": {},
   "source": [
    "##### Iterator go through each value, methods: iter and next."
   ]
  },
  {
   "cell_type": "code",
   "execution_count": 26,
   "id": "9ab5ae0a-fb6e-4cf1-91a7-44c3eeaa4268",
   "metadata": {},
   "outputs": [],
   "source": [
    "lst = [2,4,6,8,10,12,14,16,18,20]"
   ]
  },
  {
   "cell_type": "code",
   "execution_count": 27,
   "id": "d23e7276-1ece-4aed-af44-6cf5869abbd2",
   "metadata": {},
   "outputs": [],
   "source": [
    "itr = iter(lst)"
   ]
  },
  {
   "cell_type": "code",
   "execution_count": 29,
   "id": "436cbb72-4c2a-413a-a5f9-c01522375d5a",
   "metadata": {},
   "outputs": [
    {
     "name": "stdout",
     "output_type": "stream",
     "text": [
      "4\n",
      "6\n",
      "8\n",
      "10\n",
      "12\n"
     ]
    }
   ],
   "source": [
    "v1 = next(itr)\n",
    "print(v1)\n",
    "\n",
    "v2 = next(itr)\n",
    "print(v2)\n",
    "\n",
    "v3 = next(itr)\n",
    "print(v3)\n",
    "\n",
    "v4 = next(itr)\n",
    "print(v4)\n",
    "\n",
    "v5 = next(itr)\n",
    "print(v5)"
   ]
  },
  {
   "cell_type": "markdown",
   "id": "b703917f-c5b7-482b-aeb9-78a91f251fb8",
   "metadata": {},
   "source": [
    "#### Q4.  What is a generator function in python? Why yield keyword is used? Give an example of a generator  function."
   ]
  },
  {
   "cell_type": "markdown",
   "id": "b3508e46-d66c-4cbd-af97-cc6943342170",
   "metadata": {},
   "source": [
    "Generator function is a function that returns an iterator that produces a sequence of values when iterated over. Generators are useful when we want to produce a large sequence of values, but we don't want to store all of them in memory at once, yield used insted of return. "
   ]
  },
  {
   "cell_type": "code",
   "execution_count": 30,
   "id": "7ae510f6-40da-45c3-926b-38d9885d99f6",
   "metadata": {},
   "outputs": [],
   "source": [
    "def Gfun(n):\n",
    "    a,b = 0,1\n",
    "    for i in range(n):\n",
    "        yield a\n",
    "        a, b = b , a+b"
   ]
  },
  {
   "cell_type": "code",
   "execution_count": 32,
   "id": "e3b7a9e4-8fa8-4a92-b84e-eb155a0c2770",
   "metadata": {},
   "outputs": [
    {
     "name": "stdout",
     "output_type": "stream",
     "text": [
      "0\n",
      "1\n",
      "1\n",
      "2\n",
      "3\n",
      "5\n",
      "8\n",
      "13\n",
      "21\n",
      "34\n"
     ]
    }
   ],
   "source": [
    "for i in Gfun(10):\n",
    "    print(i)"
   ]
  },
  {
   "cell_type": "markdown",
   "id": "361da639-0b07-430f-9cac-e5636d075b6a",
   "metadata": {},
   "source": [
    "#### Q5. Create a generator function for prime numbers less than 1000. Use the next() method to print the  first 20 prime numbers."
   ]
  },
  {
   "cell_type": "code",
   "execution_count": 53,
   "id": "6c53e15e-a296-4e28-8f27-433f6661f370",
   "metadata": {},
   "outputs": [],
   "source": [
    "def get_first_primes(limit):\n",
    "    num = 1\n",
    "    while num <= limit:\n",
    "        if is_prime(num):\n",
    "            yield num\n",
    "        num += 1"
   ]
  },
  {
   "cell_type": "code",
   "execution_count": 67,
   "id": "bd0f737c-b2ad-494b-b87a-ccc5676868b1",
   "metadata": {},
   "outputs": [],
   "source": [
    "def is_prime(num):\n",
    "    if num > 1:\n",
    "        if num == 2:\n",
    "            return True\n",
    "        if num % 2 == 0:\n",
    "            return False\n",
    "        for i in range(3, ((num // 2) + 1), 2):\n",
    "            if num % i == 0:\n",
    "                return False\n",
    "        return True\n",
    "    return False  "
   ]
  },
  {
   "cell_type": "code",
   "execution_count": 68,
   "id": "99c51ae7-eb4d-44af-acd5-decb57b8f5e3",
   "metadata": {},
   "outputs": [],
   "source": [
    "prm = get_first_primes(1000)"
   ]
  },
  {
   "cell_type": "code",
   "execution_count": 69,
   "id": "4805470b-e43e-47a5-b697-3fe53af32768",
   "metadata": {},
   "outputs": [],
   "source": [
    "itr = iter(prm)"
   ]
  },
  {
   "cell_type": "code",
   "execution_count": 70,
   "id": "e0273f79-e619-4d9c-b398-37c9a6041d54",
   "metadata": {},
   "outputs": [
    {
     "name": "stdout",
     "output_type": "stream",
     "text": [
      "2\n",
      "3\n",
      "5\n",
      "7\n",
      "11\n",
      "13\n",
      "17\n",
      "19\n",
      "23\n",
      "29\n",
      "31\n",
      "37\n",
      "41\n",
      "43\n",
      "47\n",
      "53\n",
      "59\n",
      "61\n",
      "67\n",
      "71\n"
     ]
    }
   ],
   "source": [
    "v1 = next(itr)\n",
    "print(v1)\n",
    "v2 = next(itr)\n",
    "print(v2)\n",
    "v3 = next(itr)\n",
    "print(v3)\n",
    "v4 = next(itr)\n",
    "print(v4)\n",
    "v5 = next(itr)\n",
    "print(v5)\n",
    "v6 = next(itr)\n",
    "print(v6)\n",
    "v7 = next(itr)\n",
    "print(v7)\n",
    "v8 = next(itr)\n",
    "print(v8)\n",
    "v9 = next(itr)\n",
    "print(v9)\n",
    "v10 = next(itr)\n",
    "print(v10)\n",
    "v11 = next(itr)\n",
    "print(v11)\n",
    "v12 = next(itr)\n",
    "print(v12)\n",
    "v13 = next(itr)\n",
    "print(v13)\n",
    "v14 = next(itr)\n",
    "print(v14)\n",
    "v15 = next(itr)\n",
    "print(v15)\n",
    "v16 = next(itr)\n",
    "print(v16)\n",
    "v17 = next(itr)\n",
    "print(v17)\n",
    "v18 = next(itr)\n",
    "print(v18)\n",
    "v19 = next(itr)\n",
    "print(v19)\n",
    "v20 = next(itr)\n",
    "print(v20)\n"
   ]
  },
  {
   "cell_type": "code",
   "execution_count": 62,
   "id": "f1f6d9db-efb4-467d-a6ca-f5dc12595df4",
   "metadata": {},
   "outputs": [
    {
     "name": "stdout",
     "output_type": "stream",
     "text": [
      "2 3 5 7 11 13 17 19 23 29 31 37 41 43 47 53 59 61 67 71 73 79 83 89 97 101 103 107 109 113 127 131 137 139 149 151 157 163 167 173 179 181 191 193 197 199 211 223 227 229 233 239 241 251 257 263 269 271 277 281 283 293 307 311 313 317 331 337 347 349 353 359 367 373 379 383 389 397 401 409 419 421 431 433 439 443 449 457 461 463 467 479 487 491 499 503 509 521 523 541 547 557 563 569 571 577 587 593 599 601 607 613 617 619 631 641 643 647 653 659 661 673 677 683 691 701 709 719 727 733 739 743 751 757 761 769 773 787 797 809 811 821 823 827 829 839 853 857 859 863 877 881 883 887 907 911 919 929 937 941 947 953 967 971 977 983 991 997 "
     ]
    }
   ],
   "source": [
    "for i in get_first_primes(1000):\n",
    "    print(i, end = ' ')"
   ]
  },
  {
   "cell_type": "code",
   "execution_count": null,
   "id": "fe65866d-0d19-4bd4-9d4b-bf5273f56f1c",
   "metadata": {},
   "outputs": [],
   "source": []
  },
  {
   "cell_type": "code",
   "execution_count": null,
   "id": "ac741b1b-19c2-4621-8159-c44411c8f92b",
   "metadata": {},
   "outputs": [],
   "source": []
  }
 ],
 "metadata": {
  "kernelspec": {
   "display_name": "Python 3 (ipykernel)",
   "language": "python",
   "name": "python3"
  },
  "language_info": {
   "codemirror_mode": {
    "name": "ipython",
    "version": 3
   },
   "file_extension": ".py",
   "mimetype": "text/x-python",
   "name": "python",
   "nbconvert_exporter": "python",
   "pygments_lexer": "ipython3",
   "version": "3.10.8"
  }
 },
 "nbformat": 4,
 "nbformat_minor": 5
}
