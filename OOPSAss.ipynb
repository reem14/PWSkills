{
 "cells": [
  {
   "cell_type": "markdown",
   "id": "5969ebea-57b4-4910-91be-124de4baac65",
   "metadata": {
    "tags": []
   },
   "source": [
    "# OOPS Assignment "
   ]
  },
  {
   "cell_type": "markdown",
   "id": "e31606b8-fc16-422a-b30d-16dfc209960b",
   "metadata": {},
   "source": [
    "### Q1: Explain Class and Object with respect to Object-Oriented Programming. Give a suitable example."
   ]
  },
  {
   "cell_type": "markdown",
   "id": "5f838a2f-4986-46da-8e5f-d9be47aa5655",
   "metadata": {},
   "source": [
    "##### Almost everything in Python is an object, with its properties and methods. A Class is like an object constructor, or a \"blueprint\" for creating objects"
   ]
  },
  {
   "cell_type": "code",
   "execution_count": 1,
   "id": "2126d30e-2b72-4b55-9efd-14045e18c9b5",
   "metadata": {},
   "outputs": [],
   "source": [
    "class Person:\n",
    "      def __init__(self, name, age):\n",
    "        self.name = name\n",
    "        self.age = age"
   ]
  },
  {
   "cell_type": "code",
   "execution_count": 5,
   "id": "2081fb0c-1b28-4b90-9948-1b6c868ea2cb",
   "metadata": {},
   "outputs": [
    {
     "name": "stdout",
     "output_type": "stream",
     "text": [
      "Reem\n"
     ]
    }
   ],
   "source": [
    "p1 = Person(\"Reem\", 29)\n",
    "print(p1.name)"
   ]
  },
  {
   "cell_type": "markdown",
   "id": "466bb809-fbd1-4a34-b082-4b69dd130296",
   "metadata": {},
   "source": [
    "### Q2: Name the four pillars of OOPs."
   ]
  },
  {
   "cell_type": "markdown",
   "id": "8d9bcc7f-f8ee-46fb-9ade-c963e08dfdf0",
   "metadata": {},
   "source": [
    "1. Inheritance \n",
    "2. Polymorphism \n",
    "3. Encapsulation \n",
    "4. Abstraction"
   ]
  },
  {
   "cell_type": "markdown",
   "id": "cb446a1a-a167-4ca5-91b6-e8b490c07ce1",
   "metadata": {
    "tags": []
   },
   "source": [
    "### Q3: Explain why the __init__() function is used. Give a suitable example "
   ]
  },
  {
   "cell_type": "markdown",
   "id": "c21105df-2fad-4ece-92d2-d2879f16ee6e",
   "metadata": {},
   "source": [
    "##### The __init__ function is called every time an object is created from a class. The __init__ method lets the class initialize the object's attributes and serves no other purpose"
   ]
  },
  {
   "cell_type": "code",
   "execution_count": 7,
   "id": "4dbd2b7d-ba89-4040-a1d4-8b46e58ef24a",
   "metadata": {},
   "outputs": [],
   "source": [
    "class Person:\n",
    "      def __init__(self, name, age):\n",
    "        self.name = name\n",
    "        self.age = age"
   ]
  },
  {
   "cell_type": "markdown",
   "id": "cc18391a-3f94-4e2b-85ca-ea08daa416ad",
   "metadata": {},
   "source": [
    "### Q4: Why self is used in OOPs?"
   ]
  },
  {
   "cell_type": "markdown",
   "id": "2209210f-6525-467b-a9db-dfada82fc924",
   "metadata": {},
   "source": [
    "##### The self variable is used to represent the instance of the class which is often used in object-oriented programming. It works as a reference to the object. Python uses the self parameter to refer to instance attributes and methods of the class.\n"
   ]
  },
  {
   "cell_type": "markdown",
   "id": "f4f07582-e110-4def-8701-94fcddc538ad",
   "metadata": {},
   "source": [
    "### Q5: What is inheritance? Give an example for each type of inheritance."
   ]
  },
  {
   "cell_type": "code",
   "execution_count": null,
   "id": "4c26c98d-32cc-4d34-8011-18961838b950",
   "metadata": {},
   "outputs": [],
   "source": [
    "### Single Inheritance:"
   ]
  },
  {
   "cell_type": "code",
   "execution_count": 8,
   "id": "b9f6151c-8a26-4a14-99ea-da96322bb615",
   "metadata": {},
   "outputs": [],
   "source": [
    "### Multiple Inheritance:"
   ]
  },
  {
   "cell_type": "code",
   "execution_count": 9,
   "id": "ace9d807-0721-4cc5-a399-35880d39687d",
   "metadata": {},
   "outputs": [],
   "source": [
    "### Multilevel Inheritance:"
   ]
  },
  {
   "cell_type": "code",
   "execution_count": 10,
   "id": "2c2d6931-fe02-4be2-a958-2ee581807b1c",
   "metadata": {},
   "outputs": [],
   "source": [
    "### Hierarchical Inheritance: "
   ]
  },
  {
   "cell_type": "code",
   "execution_count": 11,
   "id": "2339d615-e377-4e25-8735-d8d6769ee473",
   "metadata": {},
   "outputs": [],
   "source": [
    "### Hybrid Inheritance: "
   ]
  }
 ],
 "metadata": {
  "kernelspec": {
   "display_name": "Python 3 (ipykernel)",
   "language": "python",
   "name": "python3"
  },
  "language_info": {
   "codemirror_mode": {
    "name": "ipython",
    "version": 3
   },
   "file_extension": ".py",
   "mimetype": "text/x-python",
   "name": "python",
   "nbconvert_exporter": "python",
   "pygments_lexer": "ipython3",
   "version": "3.10.8"
  }
 },
 "nbformat": 4,
 "nbformat_minor": 5
}
