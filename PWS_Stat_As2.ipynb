{
  "nbformat": 4,
  "nbformat_minor": 0,
  "metadata": {
    "colab": {
      "provenance": []
    },
    "kernelspec": {
      "name": "python3",
      "display_name": "Python 3"
    },
    "language_info": {
      "name": "python"
    }
  },
  "cells": [
    {
      "cell_type": "code",
      "execution_count": 15,
      "metadata": {
        "id": "5jJyHfk8AKRZ"
      },
      "outputs": [],
      "source": [
        "# Q1. What are the three measures of central tendency?\n",
        "# Mean, Median, and Mode"
      ]
    },
    {
      "cell_type": "code",
      "source": [
        "# Q2. What is the difference between the mean, median, and mode? How are they used to measure the central tendency of a dataset?\n",
        "'''\n",
        "The mean is the average where the sum of all the numbers is divided by the total number of numbers,\n",
        "whereas the median is the middle value in the list of given numbers numerically ordered from smallest to biggest\n",
        "and mode is the value of the number which occurs most often in the list.\n",
        "'''\n",
        "\n"
      ],
      "metadata": {
        "colab": {
          "base_uri": "https://localhost:8080/",
          "height": 70
        },
        "id": "4oPokQa8qoz-",
        "outputId": "424ba283-755c-4763-af85-a4e1f9d52bb4"
      },
      "execution_count": 16,
      "outputs": [
        {
          "output_type": "execute_result",
          "data": {
            "text/plain": [
              "' \\nThe mean is the average where the sum of all the numbers is divided by the total number of numbers, \\nwhereas the median is the middle value in the list of given numbers numerically ordered from smallest to biggest \\nand mode is the value of the number which occurs most often in the list.\\n'"
            ],
            "application/vnd.google.colaboratory.intrinsic+json": {
              "type": "string"
            }
          },
          "metadata": {},
          "execution_count": 16
        }
      ]
    },
    {
      "cell_type": "code",
      "source": [
        "# Q3. Measure the three measures of central tendency for the given height data:\n",
        "hdata = [178,177,176,177,178.2,178,175,179,180,175,178.9,176.2,177,172.5,178,176.5]\n",
        "import numpy as np\n",
        "h_mean = np.mean(hdata)\n",
        "h_median = np.median(hdata)\n",
        "from scipy.stats import mode\n",
        "h_mode = mode(hdata)"
      ],
      "metadata": {
        "colab": {
          "base_uri": "https://localhost:8080/"
        },
        "id": "DgsKeZjyqqFX",
        "outputId": "81ff0d03-b066-4fe6-e916-2cf2213af015"
      },
      "execution_count": 33,
      "outputs": [
        {
          "output_type": "stream",
          "name": "stderr",
          "text": [
            "<ipython-input-33-3c2fbf639601>:7: FutureWarning: Unlike other reduction functions (e.g. `skew`, `kurtosis`), the default behavior of `mode` typically preserves the axis it acts along. In SciPy 1.11.0, this behavior will change: the default value of `keepdims` will become False, the `axis` over which the statistic is taken will be eliminated, and the value None will no longer be accepted. Set `keepdims` to True or False to avoid this warning.\n",
            "  h_mode = mode(hdata)\n"
          ]
        }
      ]
    },
    {
      "cell_type": "code",
      "source": [
        "h_mean"
      ],
      "metadata": {
        "colab": {
          "base_uri": "https://localhost:8080/"
        },
        "id": "dW7T7O-ea6KW",
        "outputId": "a858581a-53d2-4144-d785-a6a0c1d6a80c"
      },
      "execution_count": 34,
      "outputs": [
        {
          "output_type": "execute_result",
          "data": {
            "text/plain": [
              "177.01875"
            ]
          },
          "metadata": {},
          "execution_count": 34
        }
      ]
    },
    {
      "cell_type": "code",
      "source": [
        "\n",
        "h_median\n"
      ],
      "metadata": {
        "colab": {
          "base_uri": "https://localhost:8080/"
        },
        "id": "AeTtnmGJau_P",
        "outputId": "dc31805a-bb54-4e1f-b9d6-c1056e4cf332"
      },
      "execution_count": 35,
      "outputs": [
        {
          "output_type": "execute_result",
          "data": {
            "text/plain": [
              "177.0"
            ]
          },
          "metadata": {},
          "execution_count": 35
        }
      ]
    },
    {
      "cell_type": "code",
      "source": [
        "h_mode"
      ],
      "metadata": {
        "colab": {
          "base_uri": "https://localhost:8080/"
        },
        "id": "7nn4dy5Ga-OY",
        "outputId": "d1a45bfe-41fe-4aed-eee5-ec09449ba93e"
      },
      "execution_count": 36,
      "outputs": [
        {
          "output_type": "execute_result",
          "data": {
            "text/plain": [
              "ModeResult(mode=array([177.]), count=array([3]))"
            ]
          },
          "metadata": {},
          "execution_count": 36
        }
      ]
    },
    {
      "cell_type": "code",
      "source": [
        "# Q4. Find the standard deviation for the given data:\n",
        "dt = [178,177,176,177,178.2,178,175,179,180,175,178.9,176.2,177,172.5,178,176.5]\n",
        "np.std(dt)"
      ],
      "metadata": {
        "id": "nlCpnx6bquT6",
        "colab": {
          "base_uri": "https://localhost:8080/"
        },
        "outputId": "f1120ca9-e327-498e-d38a-7f5dc46560d8"
      },
      "execution_count": 38,
      "outputs": [
        {
          "output_type": "execute_result",
          "data": {
            "text/plain": [
              "1.7885814036548633"
            ]
          },
          "metadata": {},
          "execution_count": 38
        }
      ]
    },
    {
      "cell_type": "code",
      "source": [
        "# Q5. How are measures of dispersion such as range, variance, and standard deviation used to describe the spread of a dataset?\n",
        "#Provide an example.\n",
        "# used to describe the extent to which data is scattered.\n",
        "# Thus, measures of dispersion are certain types of measures that are used to quantify the dispersion of data.\n"
      ],
      "metadata": {
        "id": "pyvOyXwuq7uz"
      },
      "execution_count": 5,
      "outputs": []
    },
    {
      "cell_type": "code",
      "source": [
        "# Q6. What is a Venn diagram?\n",
        "# Is an illustration that uses circles to show the relationships among things or finite groups of things."
      ],
      "metadata": {
        "id": "ETRwEqJxq-oL"
      },
      "execution_count": 39,
      "outputs": []
    },
    {
      "cell_type": "code",
      "source": [
        "# Q7. For the two given sets\n",
        "A = {2,3,4,5,6,7}\n",
        "B = {0,2,6,8,10}\n",
        "#Find:\n",
        "#(i) A B\n",
        "print(\"A & B :\", A.intersection(B))\n",
        "#(ii) A ⋃ B\n",
        "print(\"A ⋃ B :\",A.union(B))"
      ],
      "metadata": {
        "id": "8O_YAWvLrB2e",
        "colab": {
          "base_uri": "https://localhost:8080/"
        },
        "outputId": "de1daf7c-feae-4aad-ba52-9aa463c70a54"
      },
      "execution_count": 55,
      "outputs": [
        {
          "output_type": "stream",
          "name": "stdout",
          "text": [
            "A & B : {2, 6}\n",
            "A ⋃ B : {0, 2, 3, 4, 5, 6, 7, 8, 10}\n"
          ]
        }
      ]
    },
    {
      "cell_type": "code",
      "source": [
        "# Q8. What do you understand about skewness in data?\n",
        "# is a measurement of the distortion of symmetrical distribution or asymmetry in a data se"
      ],
      "metadata": {
        "id": "gM47SmBorCmk"
      },
      "execution_count": 56,
      "outputs": []
    },
    {
      "cell_type": "code",
      "source": [
        "# Q9. If a data is right skewed then what will be the position of median with respect to mean?\n",
        "# mean > median"
      ],
      "metadata": {
        "id": "yiXqIw0jrC2g"
      },
      "execution_count": 9,
      "outputs": []
    },
    {
      "cell_type": "code",
      "source": [
        "# Q10. Explain the difference between covariance and correlation. How are these measures used in statistical analysis?\n",
        "'''\n",
        "Covariance is an indicator of the extent to which 2 random variables are dependent on each other.\n",
        "A higher number denotes higher dependency.\n",
        "Correlation is a statistical measure that indicates how strongly two variables are related\n",
        "'''"
      ],
      "metadata": {
        "id": "rq4kQ7S3rDHJ"
      },
      "execution_count": 10,
      "outputs": []
    },
    {
      "cell_type": "code",
      "source": [
        "# Q11. What is the formula for calculating the sample mean? Provide an example calculation for a dataset.\n",
        "# s = ( Σ xi ) / n."
      ],
      "metadata": {
        "id": "5JfPQ0l4rN-j"
      },
      "execution_count": 11,
      "outputs": []
    },
    {
      "cell_type": "code",
      "source": [
        "# Q12. For a normal distribution data what is the relationship between its measure of central tendency?\n",
        "# will give you the same answer so they can all be used"
      ],
      "metadata": {
        "id": "YEeJFxzhXiNM"
      },
      "execution_count": 12,
      "outputs": []
    },
    {
      "cell_type": "code",
      "source": [
        "# Q13. How is covariance different from correlation?\n",
        "'''\n",
        "Covariance is an indicator of the extent to which 2 random variables are dependent on each other.\n",
        "A higher number denotes higher dependency.\n",
        "Correlation is a statistical measure that indicates how strongly two variables are related\n",
        "'''"
      ],
      "metadata": {
        "id": "eNRW_HS_Xkh7"
      },
      "execution_count": 13,
      "outputs": []
    },
    {
      "cell_type": "code",
      "source": [
        "# Q14. How do outliers affect measures of central tendency and dispersion? Provide an example.\n",
        "'''\n",
        "can give misleading impressions of a data set if the set contains one or more outliers.\n",
        "Outliers affect the mean value of the data but have little effect on the median or mode of a given set of data\n",
        "'''"
      ],
      "metadata": {
        "colab": {
          "base_uri": "https://localhost:8080/",
          "height": 53
        },
        "id": "-mlbAuD5XmiO",
        "outputId": "e7ac7978-6c41-41b0-b06a-e120f4ff75e5"
      },
      "execution_count": 57,
      "outputs": [
        {
          "output_type": "execute_result",
          "data": {
            "text/plain": [
              "'\\ncan give misleading impressions of a data set if the set contains one or more outliers.\\nOutliers affect the mean value of the data but have little effect on the median or mode of a given set of data\\n'"
            ],
            "application/vnd.google.colaboratory.intrinsic+json": {
              "type": "string"
            }
          },
          "metadata": {},
          "execution_count": 57
        }
      ]
    }
  ]
}