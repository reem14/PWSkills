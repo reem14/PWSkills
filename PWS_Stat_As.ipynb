{
  "nbformat": 4,
  "nbformat_minor": 0,
  "metadata": {
    "colab": {
      "provenance": []
    },
    "kernelspec": {
      "name": "python3",
      "display_name": "Python 3"
    },
    "language_info": {
      "name": "python"
    }
  },
  "cells": [
    {
      "cell_type": "code",
      "execution_count": null,
      "metadata": {
        "id": "5jJyHfk8AKRZ"
      },
      "outputs": [],
      "source": [
        "# Q1. what is statistics ?\n",
        "# Statistics is  the collection, description, analysis, and inference of conclusions from quantitative data"
      ]
    },
    {
      "cell_type": "code",
      "source": [
        "# Q2. Define the different types of statistics and give an example of when each type might be used.\n",
        "'''\n",
        "1. Descriptive Statistics: describing features of a data set by generating summaries about data samples. And there are 3 types:\n",
        " 1: Distribution\n",
        " 2: Measures of central tendency\n",
        " 3: Measures of variability\n",
        "Ex: Mean, Median, Mode\n",
        "    Range, Standared Deviation, Variance, and Interquartile range.\n",
        "\n",
        "2. Inferential Statistics:  the practice of using sampled data to draw conclusions or make predictions about a larger sample data sample or population\n",
        " Ex: z-test, t-test,  hypothisis testing.\n",
        " '''"
      ],
      "metadata": {
        "colab": {
          "base_uri": "https://localhost:8080/",
          "height": 87
        },
        "id": "4oPokQa8qoz-",
        "outputId": "f0897c41-bd7d-4076-a0df-9f0f269e29dd"
      },
      "execution_count": null,
      "outputs": [
        {
          "output_type": "execute_result",
          "data": {
            "text/plain": [
              "'\\n1. Descriptive Statistics: describing features of a data set by generating summaries about data samples. And there are 3 types:\\n 1: Distribution \\n 2: Measures of central tendency \\n 3: Measures of variability \\nEx: Mean, Median, Mode\\n    Range, Standared Deviation, Variance, and Interquartile range.  \\n\\n2. Inferential Statistics:  the practice of using sampled data to draw conclusions or make predictions about a larger sample data sample or population\\n Ex: z-test, t-test,  hypothisis testing.\\n '"
            ],
            "application/vnd.google.colaboratory.intrinsic+json": {
              "type": "string"
            }
          },
          "metadata": {},
          "execution_count": 16
        }
      ]
    },
    {
      "cell_type": "code",
      "source": [
        "# Q3. What are the different types of data and how do they differ from each other? Provide an example of each type of data.\n",
        "'''\n",
        "A. Quantitative Data: can be expressed in numerical values\n",
        "  1. Discrate\n",
        "    Ex: Whole numbers\n",
        "  2. Continuos\n",
        "    Ex: Any value\n",
        "\n",
        "B. Qualtitave Data: is a data that can’t be measured or counted in the form of numbers\n",
        "  1. Nominal\n",
        "    Ex: Gender\n",
        "  2. Ordinal\n",
        "    Ex: Rank\n",
        "'''"
      ],
      "metadata": {
        "colab": {
          "base_uri": "https://localhost:8080/",
          "height": 53
        },
        "id": "DgsKeZjyqqFX",
        "outputId": "dd776358-93d1-4466-a45d-622e28b20f01"
      },
      "execution_count": null,
      "outputs": [
        {
          "output_type": "execute_result",
          "data": {
            "text/plain": [
              "'\\nA. Quantitative Data: can be expressed in numerical values\\n  1. Discrate \\n    Ex: Whole numbers\\n  2. Continuos \\n    Ex: Any value\\n    \\nB. Qualtitave Data: is a data that can’t be measured or counted in the form of numbers\\n  1. Nominal \\n    Ex: Gender  \\n  2. Ordinal\\n    Ex: Rank\\n'"
            ],
            "application/vnd.google.colaboratory.intrinsic+json": {
              "type": "string"
            }
          },
          "metadata": {},
          "execution_count": 17
        }
      ]
    },
    {
      "cell_type": "code",
      "source": [
        "# Q4. Categorise the following datasets with respect to quantitative and qualitative data types:\n",
        "#(i) Grading in exam: A+, A, B+, B, C+, C, D, E  => Qualitatve\n",
        "#(ii) Colour of mangoes: yellow, green, orange, red => Qualittave\n",
        "#(iii) Height data of a class: [178.9, 179, 179.5, 176, 177.2, 178.3, 175.8,...] => Quantitative\n",
        "#(iv) Number of mangoes exported by a farm: [500, 600, 478, 672, ...] => Quantitative"
      ],
      "metadata": {
        "id": "nlCpnx6bquT6"
      },
      "execution_count": 18,
      "outputs": []
    },
    {
      "cell_type": "code",
      "source": [
        "# Q5. Explain the concept of levels of measurement and give an example of a variable for each level.\n",
        "'''\n",
        "1. Nominal Scale Data: It is a qualitative/categoral variable and the order doesn't matter.\n",
        "   Ex: Gender\n",
        "2. Ordinal Scale Data: The rank and order is matter.\n",
        "   Ex: Qualifications\n",
        "3. Interval Scale Data: The differnce can be measured and the order and rank is matter.\n",
        "   Ex: Temperture\n",
        "4. Ratio Scale Data: Difference and ratio can be measured and the order and rank is matters.\n",
        "   Ex: Grades\n",
        "'''"
      ],
      "metadata": {
        "id": "pyvOyXwuq7uz",
        "colab": {
          "base_uri": "https://localhost:8080/",
          "height": 70
        },
        "outputId": "b5905449-fa57-472e-9953-e7f6db8453b0"
      },
      "execution_count": 19,
      "outputs": [
        {
          "output_type": "execute_result",
          "data": {
            "text/plain": [
              "\" \\n1. Nominal Scale Data: It is a qualitative/categoral variable and the order doesn't matter. \\n   Ex: Gender\\n2. Ordinal Scale Data: The rank and order is matter.\\n   Ex: Qualifications \\n3. Interval Scale Data: The differnce can be measured and the order and rank is matter.\\n   Ex: Temperture\\n4. Ratio Scale Data: Difference and ratio can be measured and the order and rank is matters. \\n   Ex: Grades\\n\""
            ],
            "application/vnd.google.colaboratory.intrinsic+json": {
              "type": "string"
            }
          },
          "metadata": {},
          "execution_count": 19
        }
      ]
    },
    {
      "cell_type": "code",
      "source": [
        "# Q6. Why is it important to understand the level of measurement when analyzing data? Provide an example to illustrate your answer.\n",
        "'''\n",
        "It is allows you to determine the type of statistcal analsis that be conucted.\n",
        "Ordinal level: You create brackets of income ranges: $0–$19,999, $20,000–$39,999,\n",
        "and $40,000–$59,999. You ask participants to select the bracket that represents their annual income.\n",
        " The brackets are coded with numbers from 1–3.\n",
        "Ratio level: You collect data on the exact annual incomes of your participants.\n",
        "'''"
      ],
      "metadata": {
        "id": "ETRwEqJxq-oL",
        "colab": {
          "base_uri": "https://localhost:8080/",
          "height": 70
        },
        "outputId": "cd55deaf-967c-4e16-800e-9a66486ea9e5"
      },
      "execution_count": 20,
      "outputs": [
        {
          "output_type": "execute_result",
          "data": {
            "text/plain": [
              "'\\nIt is allows you to determine the type of statistcal analsis that be conucted.\\nOrdinal level: You create brackets of income ranges: $0–$19,999, $20,000–$39,999, \\nand $40,000–$59,999. You ask participants to select the bracket that represents their annual income.\\n The brackets are coded with numbers from 1–3.\\nRatio level: You collect data on the exact annual incomes of your participants.\\n'"
            ],
            "application/vnd.google.colaboratory.intrinsic+json": {
              "type": "string"
            }
          },
          "metadata": {},
          "execution_count": 20
        }
      ]
    },
    {
      "cell_type": "code",
      "source": [
        "# Q7. How nominal data type is different from ordinal data type.\n",
        "'''\n",
        "Nominal Data is classified without any intrinsic ordering or rank,\n",
        "Ordinal Data has some predetermined or natural order.\n",
        "Nominal data is qualitative or categorical data,\n",
        "while Ordinal data is considered “in-between” qualitative and quantitative data\n",
        "'''"
      ],
      "metadata": {
        "id": "8O_YAWvLrB2e",
        "colab": {
          "base_uri": "https://localhost:8080/",
          "height": 53
        },
        "outputId": "b701d5d6-bea4-4d72-9f93-bab4f2c6cbb7"
      },
      "execution_count": 21,
      "outputs": [
        {
          "output_type": "execute_result",
          "data": {
            "text/plain": [
              "' \\nNominal Data is classified without any intrinsic ordering or rank, \\nOrdinal Data has some predetermined or natural order. \\nNominal data is qualitative or categorical data, \\nwhile Ordinal data is considered “in-between” qualitative and quantitative data\\n'"
            ],
            "application/vnd.google.colaboratory.intrinsic+json": {
              "type": "string"
            }
          },
          "metadata": {},
          "execution_count": 21
        }
      ]
    },
    {
      "cell_type": "code",
      "source": [
        "# Q8. Which type of plot can be used to display data in terms of range? Histogram"
      ],
      "metadata": {
        "id": "gM47SmBorCmk"
      },
      "execution_count": 22,
      "outputs": []
    },
    {
      "cell_type": "code",
      "source": [
        "# Q9. Describe the difference between descriptive and inferential statistics. Give an example of each type of statistics and explain how they are used.\n",
        "'''\n",
        "1. Descriptive Statistics: describing features of a data set by generating summaries about data samples. And there are 3 types:\n",
        " 1: Distribution\n",
        " 2: Measures of central tendency\n",
        " 3: Measures of variability\n",
        "Ex: Mean, Median, Mode\n",
        "    Range, Standared Deviation, Variance, and Interquartile range.\n",
        "\n",
        "2. Inferential Statistics:  the practice of using sampled data to draw conclusions or make predictions about a larger sample data sample or population\n",
        " Ex: z-test, t-test,  hypothisis testing.\n",
        "\n",
        "'''"
      ],
      "metadata": {
        "id": "yiXqIw0jrC2g",
        "colab": {
          "base_uri": "https://localhost:8080/",
          "height": 87
        },
        "outputId": "511b91af-d9fc-4792-f968-5b9c7564c9d1"
      },
      "execution_count": 23,
      "outputs": [
        {
          "output_type": "execute_result",
          "data": {
            "text/plain": [
              "'\\n1. Descriptive Statistics: describing features of a data set by generating summaries about data samples. And there are 3 types:\\n 1: Distribution\\n 2: Measures of central tendency\\n 3: Measures of variability\\nEx: Mean, Median, Mode\\n    Range, Standared Deviation, Variance, and Interquartile range.\\n\\n2. Inferential Statistics:  the practice of using sampled data to draw conclusions or make predictions about a larger sample data sample or population\\n Ex: z-test, t-test,  hypothisis testing.\\n\\n'"
            ],
            "application/vnd.google.colaboratory.intrinsic+json": {
              "type": "string"
            }
          },
          "metadata": {},
          "execution_count": 23
        }
      ]
    },
    {
      "cell_type": "code",
      "source": [
        "# Q10. What are some common measures of central tendency and variability used in statistics? Explain how each measure can be used to describe a dataset.\n",
        "'''\n",
        "Central tendency and variation are two measures used in statistics to summarize data.\n",
        "Measure of central tendency shows where the center or middle of the data set is located,\n",
        "whereas measure of variation shows the dispersion among data values.\n",
        "'''"
      ],
      "metadata": {
        "id": "rq4kQ7S3rDHJ",
        "colab": {
          "base_uri": "https://localhost:8080/",
          "height": 53
        },
        "outputId": "9593a321-59ae-4e9e-c954-8b94267bdb58"
      },
      "execution_count": 24,
      "outputs": [
        {
          "output_type": "execute_result",
          "data": {
            "text/plain": [
              "'\\nCentral tendency and variation are two measures used in statistics to summarize data.\\nMeasure of central tendency shows where the center or middle of the data set is located, \\nwhereas measure of variation shows the dispersion among data values.\\n'"
            ],
            "application/vnd.google.colaboratory.intrinsic+json": {
              "type": "string"
            }
          },
          "metadata": {},
          "execution_count": 24
        }
      ]
    },
    {
      "cell_type": "code",
      "source": [],
      "metadata": {
        "id": "5JfPQ0l4rN-j"
      },
      "execution_count": null,
      "outputs": []
    }
  ]
}